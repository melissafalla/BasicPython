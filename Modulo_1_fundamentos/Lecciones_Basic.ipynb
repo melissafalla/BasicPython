{
 "cells": [
  {
   "cell_type": "markdown",
   "metadata": {},
   "source": [
    "## 🧠 Lección 1: Varibales\n",
    "\n",
    "Una **variable** en Python es una variable/\"caja\", a la cual le das a un valor para poder usarlo despues:\n",
    "- Texto (`str`) ej: \"hola\"\n",
    "- Número entero (`int`) ej: 10\n",
    "- Número decimal (`float`)  ej: 3.14\n",
    "- Valor booleano (`bool`) ej: true / False\n",
    "- Archivo, lista, etc.\n",
    "\n",
    "💡 **Nota**: Las variables se crean con el signo igual `=`\n",
    "\n",
    "💡 **Nota**: La función `print()` de Python sirve para mostrar información en la pantalla, como texto, números o resultados"
   ]
  },
  {
   "cell_type": "code",
   "execution_count": 7,
   "metadata": {},
   "outputs": [
    {
     "name": "stdout",
     "output_type": "stream",
     "text": [
      "60\n",
      "-40\n",
      "500\n",
      "0.2\n",
      "100\n",
      "JUAN\n",
      "juan\n",
      "Hola, Juan\n",
      "la Temperatura en Barcelona es de  29.5 grados\n",
      "La temperatura en Barcelona es de 29.5 grados\n",
      "La temperatura en Barcelona es de 29.5 grados\n",
      "Hola, me llamo Juan y tengo 25 años.\n",
      "Vivo en BARCELONA donde la temperatura es de 29.5 grados.\n",
      "¿Está lloviendo? True\n",
      "El cuadrado de mi edad es 625\n"
     ]
    }
   ],
   "source": [
    "#ejemplo\n",
    "Nombre = \"Juan\"\n",
    "Temperatura = 29.5 \n",
    "Llovera = True\n",
    "Ciudad = \"Barcelona\"\n",
    "Edad = 25\n",
    "Saludo = \"Hola, \"\n",
    "a = 10\n",
    "b = 50\n",
    "\n",
    "#operaciones basicas\n",
    "\n",
    "print(a + b)    #suma\n",
    "print(a - b)    #resta\n",
    "print(a * b)    #multiplicacion\n",
    "print(a / b)    #divicion\n",
    "print(a ** 2)   #potencia\n",
    "print(Nombre.upper())  #mayuscula\n",
    "print(Nombre.lower())   #minuscula\n",
    "print(Saludo + Nombre)\n",
    "print(\"la Temperatura en\", Ciudad ,\"es de \",Temperatura , \"grados\")\n",
    "print(f\"La temperatura en {Ciudad} es de {Temperatura} grados\")\n",
    "print(\"La temperatura en \" + Ciudad + \" es de \" + str(Temperatura) + \" grados\")\n",
    "print(f\"Hola, me llamo {Nombre} y tengo {Edad} años.\")\n",
    "print(f\"Vivo en {Ciudad.upper()} donde la temperatura es de {Temperatura} grados.\")\n",
    "print(f\"¿Está lloviendo? {Llovera}\")\n",
    "print(f\"El cuadrado de mi edad es {Edad ** 2}\")\n"
   ]
  },
  {
   "cell_type": "code",
   "execution_count": 8,
   "metadata": {},
   "outputs": [
    {
     "name": "stdout",
     "output_type": "stream",
     "text": [
      "True\n"
     ]
    }
   ],
   "source": [
    "#ejemplo con booleanos\n",
    "#los booleanos se usan para comparaciones, condiciones y toma dedecisiones\n",
    "\n",
    "es_mayor_de_edad = True\n",
    "tiene_llaves = False\n",
    "print(es_mayor_de_edad)\n"
   ]
  },
  {
   "cell_type": "code",
   "execution_count": 9,
   "metadata": {},
   "outputs": [
    {
     "name": "stdout",
     "output_type": "stream",
     "text": [
      "True\n",
      "False\n",
      "True\n"
     ]
    }
   ],
   "source": [
    "#comparaciones que devuelven booleanos\n",
    "edad = 25\n",
    "\n",
    "print(edad > 17)   # se lee como ¿la edad es mayor que 17?\n",
    "print(edad == 21)  # se lee como ¿la edad es igual a 21?\n",
    "print(edad != 10)  # se lee como ¿la edad es distinat a 10?\n"
   ]
  },
  {
   "cell_type": "markdown",
   "metadata": {},
   "source": [
    "---"
   ]
  },
  {
   "cell_type": "markdown",
   "metadata": {},
   "source": [
    "# 🧠 Lección 2: Condicionales y Lógica en Python\n",
    "\n",
    " ¿Qué es una condicional?\n",
    "\n",
    "Una **condicional** permite que un programa tome decisiones dependiendo de si una condición es **verdadera** (`True`) o **falsa** (`False`).\n",
    "\n",
    ">  Ejemplo lógico:  \n",
    "> Si está lloviendo, entonces llevo paraguas.  \n",
    "> Si no, no lo llevo.\n",
    "\n",
    "Sintaxis básica de `if`\n",
    "\n",
    "```python\n",
    "if condicion:\n",
    "    # Código que se ejecuta si la condición es True\n",
    "\n",
    "\n",
    "```python\n",
    "elif condicion:\n",
    "    # si no se cumplio el IF, prueb con otra condicion\n",
    "\n",
    "\n",
    "```python\n",
    "else condicion:\n",
    "    # si nada se cumple, ejecuta esto"
   ]
  },
  {
   "cell_type": "code",
   "execution_count": 10,
   "metadata": {},
   "outputs": [
    {
     "name": "stdout",
     "output_type": "stream",
     "text": [
      "Eres mayor de edad.\n"
     ]
    }
   ],
   "source": [
    "#ejemplo\n",
    "edad = 18\n",
    "\n",
    "if edad >= 18:\n",
    "    print(\"Eres mayor de edad.\")\n"
   ]
  },
  {
   "cell_type": "code",
   "execution_count": 11,
   "metadata": {},
   "outputs": [
    {
     "name": "stdout",
     "output_type": "stream",
     "text": [
      "Aprobado\n"
     ]
    }
   ],
   "source": [
    "#ejemplo\n",
    "nota = 4.0\n",
    "\n",
    "if nota >= 4.5:\n",
    "    print(\"Excelente\")\n",
    "elif nota >= 3.0:\n",
    "    print(\"Aprobado\")\n",
    "else:\n",
    "    print(\"Reprobado\")\n"
   ]
  },
  {
   "cell_type": "code",
   "execution_count": 12,
   "metadata": {},
   "outputs": [
    {
     "name": "stdout",
     "output_type": "stream",
     "text": [
      "Adulto\n"
     ]
    }
   ],
   "source": [
    "#ejemplo\n",
    "\n",
    "edad = 40\n",
    "\n",
    "if edad >= 60:\n",
    "    print(\"Adulto Mayor\")\n",
    "elif edad >= 18:\n",
    "    print(\"Adulto\")\n",
    "else:\n",
    "    print(\"Menor de edad\")\n"
   ]
  },
  {
   "cell_type": "markdown",
   "metadata": {},
   "source": [
    "# Operadores Lógicos \n",
    "\n",
    "Los **operadores lógicos** permiten combinar condiciones en una expresión. Son muy útiles cuando necesitas verificar **más de una condición a la vez**.\n",
    "\n",
    "\n",
    "##  Tipos de operadores lógicos\n",
    "\n",
    "| Operador | Nombre         | ¿Qué hace?                                                                 |\n",
    "|----------|----------------|-----------------------------------------------------------------------------|\n",
    "| `and`    | Y               | Devuelve `True` **si ambas condiciones** son `True`                        |\n",
    "| `or`     | O               | Devuelve `True` **si al menos una condición** es `True`                   |\n",
    "| `not`    | No (negación)   | Invierte el valor lógico (`not True` → `False`, `not False` → `True`)    |\n",
    "\n",
    "\n",
    "\n"
   ]
  },
  {
   "cell_type": "code",
   "execution_count": 13,
   "metadata": {},
   "outputs": [
    {
     "name": "stdout",
     "output_type": "stream",
     "text": [
      "Eres joven y estudias\n"
     ]
    }
   ],
   "source": [
    "#ejemplo\n",
    "\n",
    "edad = 25\n",
    "es_estudiante = True\n",
    "\n",
    "if edad < 30 and es_estudiante:\n",
    "    print(\"Eres joven y estudias\")\n",
    "\n",
    "\n",
    "#cuando se necesita que todo sea verdadero"
   ]
  },
  {
   "cell_type": "markdown",
   "metadata": {},
   "source": [
    "| A       | B       | A and B |\n",
    "|---------|---------|---------|\n",
    "| True    | True    | True    |\n",
    "| True    | False   | False   |\n",
    "| False   | True    | False   |\n",
    "| False   | False   | False   |"
   ]
  },
  {
   "cell_type": "code",
   "execution_count": 14,
   "metadata": {},
   "outputs": [
    {
     "name": "stdout",
     "output_type": "stream",
     "text": [
      "Lleva chaqueta\n"
     ]
    }
   ],
   "source": [
    "llueve = True\n",
    "hace_frio = False\n",
    "\n",
    "if llueve or hace_frio:\n",
    "    print(\"Lleva chaqueta\")\n",
    "\n",
    "\n",
    "#cuando basta con que una parte sea verdadera"
   ]
  },
  {
   "cell_type": "markdown",
   "metadata": {},
   "source": [
    "| A       | B       | A or B  |\n",
    "|---------|---------|---------|\n",
    "| True    | True    | True    |\n",
    "| True    | False   | True    |\n",
    "| False   | True    | True    |\n",
    "| False   | False   | False   |"
   ]
  },
  {
   "cell_type": "code",
   "execution_count": 15,
   "metadata": {},
   "outputs": [
    {
     "name": "stdout",
     "output_type": "stream",
     "text": [
      "Es de noche\n"
     ]
    }
   ],
   "source": [
    "es_dia = False\n",
    "\n",
    "if not es_dia:\n",
    "    print(\"Es de noche\")\n",
    "\n",
    "\n",
    "#not de usa mucho cuando quieres hacer alfo si una condicion NO se cumple\n",
    "#invierte la condicion"
   ]
  },
  {
   "cell_type": "markdown",
   "metadata": {},
   "source": [
    "| A       | not A   |\n",
    "|---------|---------|\n",
    "| True    | False   |\n",
    "| False   | True    |"
   ]
  },
  {
   "cell_type": "code",
   "execution_count": 16,
   "metadata": {},
   "outputs": [
    {
     "name": "stdout",
     "output_type": "stream",
     "text": [
      "True\n"
     ]
    }
   ],
   "source": [
    "llueve = False\n",
    "hace_frio = True\n",
    "\n",
    "print(llueve or hace_frio)\n",
    "\n",
    "\n"
   ]
  },
  {
   "cell_type": "code",
   "execution_count": 17,
   "metadata": {},
   "outputs": [
    {
     "name": "stdout",
     "output_type": "stream",
     "text": [
      "Hoy es día laboral\n"
     ]
    }
   ],
   "source": [
    "es_finde = False\n",
    "\n",
    "if not es_finde:\n",
    "    print(\"Hoy es día laboral\")\n",
    "else:\n",
    "    print(\"Es fin de semana\")\n"
   ]
  },
  {
   "cell_type": "code",
   "execution_count": 18,
   "metadata": {},
   "outputs": [
    {
     "name": "stdout",
     "output_type": "stream",
     "text": [
      "No puede votar\n"
     ]
    }
   ],
   "source": [
    "edad = 17\n",
    "tiene_cedula = True\n",
    "\n",
    "if edad >= 18 and tiene_cedula:\n",
    "    print(\"Puede votar\")\n",
    "else:\n",
    "    print(\"No puede votar\")\n"
   ]
  },
  {
   "cell_type": "code",
   "execution_count": 19,
   "metadata": {},
   "outputs": [
    {
     "name": "stdout",
     "output_type": "stream",
     "text": [
      "Puede ver la película\n"
     ]
    }
   ],
   "source": [
    "permiso_padres = True\n",
    "mayor_13 = True\n",
    "\n",
    "if mayor_13 or permiso_padres:\n",
    "    print(\"Puede ver la película\")\n",
    "else:\n",
    "    print(\"No puede ver la película\")\n"
   ]
  },
  {
   "cell_type": "markdown",
   "metadata": {},
   "source": [
    "---"
   ]
  },
  {
   "cell_type": "markdown",
   "metadata": {},
   "source": [
    "# 🧠 Lección 3: Funciones en Python\n",
    "\n",
    "\n",
    "## ¿Qué es una función?\n",
    "\n",
    "Una **función** es un bloque de código que se puede reutilizar.  \n",
    "Sirve para **organizar**, **automatizar** y **evitar repetir** instrucciones.\n",
    "\n",
    "###  Se usa para:\n",
    "> \"Agrupar un conjunto de pasos bajo un nombre para usarlos cuando se necesiten.\"\n",
    "\n",
    "## Sintaxis básica\n",
    "\n",
    "```python\n",
    "def nombre_funcion():\n",
    "    # Código de la función\n",
    "\n",
    "\n",
    "def= define una funcion\n",
    "()= pueden contener parentesis\n",
    ":= abre el bloque de la funcion\n",
    "return= devuelve un valor desde la funcion\n"
   ]
  },
  {
   "cell_type": "code",
   "execution_count": 20,
   "metadata": {},
   "outputs": [],
   "source": [
    "def saludar():\n",
    "    print(\"Hola, bienvenida al curso 😄\")\n"
   ]
  },
  {
   "cell_type": "code",
   "execution_count": 21,
   "metadata": {},
   "outputs": [
    {
     "name": "stdout",
     "output_type": "stream",
     "text": [
      "Hola, bienvenida al curso 😄\n"
     ]
    }
   ],
   "source": [
    "saludar()\n"
   ]
  },
  {
   "cell_type": "code",
   "execution_count": 22,
   "metadata": {},
   "outputs": [],
   "source": [
    "def saludar_persona(nombre):\n",
    "    print(f\"Hola, {nombre}!\")\n"
   ]
  },
  {
   "cell_type": "code",
   "execution_count": 23,
   "metadata": {},
   "outputs": [
    {
     "name": "stdout",
     "output_type": "stream",
     "text": [
      "Hola, Melissa!\n"
     ]
    }
   ],
   "source": [
    "saludar_persona(\"Melissa\")\n"
   ]
  },
  {
   "cell_type": "code",
   "execution_count": 24,
   "metadata": {},
   "outputs": [],
   "source": [
    "def cuadrado(x):\n",
    "    return x ** 2"
   ]
  },
  {
   "cell_type": "code",
   "execution_count": 25,
   "metadata": {},
   "outputs": [
    {
     "name": "stdout",
     "output_type": "stream",
     "text": [
      "25\n"
     ]
    }
   ],
   "source": [
    "resultado = cuadrado(5)\n",
    "print(resultado)  # 25\n"
   ]
  },
  {
   "cell_type": "code",
   "execution_count": 26,
   "metadata": {},
   "outputs": [],
   "source": [
    "#ejemplo:\n",
    "Nombre = \"Juan\"\n",
    "Edad = 30\n",
    "Ciudad = \"Bogota\"\n",
    "def Presentacion():\n",
    "    print(f\"Hola me llamo {Nombre}, tengo {Edad} años y vivo en la ciudad de {Ciudad}\")"
   ]
  },
  {
   "cell_type": "code",
   "execution_count": 27,
   "metadata": {},
   "outputs": [
    {
     "name": "stdout",
     "output_type": "stream",
     "text": [
      "Hola me llamo Juan, tengo 30 años y vivo en la ciudad de Bogota\n"
     ]
    }
   ],
   "source": [
    "Presentacion()"
   ]
  },
  {
   "cell_type": "code",
   "execution_count": 28,
   "metadata": {},
   "outputs": [],
   "source": [
    "def suma(a, b):\n",
    "    return a + b\n"
   ]
  },
  {
   "cell_type": "code",
   "execution_count": 29,
   "metadata": {},
   "outputs": [
    {
     "name": "stdout",
     "output_type": "stream",
     "text": [
      "La suma es: 15\n"
     ]
    }
   ],
   "source": [
    "resultado = suma(10, 5)\n",
    "print(f\"La suma es: {resultado}\")\n"
   ]
  },
  {
   "cell_type": "code",
   "execution_count": 30,
   "metadata": {},
   "outputs": [],
   "source": [
    "def imc(peso, altura):\n",
    "    return peso / (altura ** 2)\n"
   ]
  },
  {
   "cell_type": "code",
   "execution_count": 31,
   "metadata": {},
   "outputs": [
    {
     "name": "stdout",
     "output_type": "stream",
     "text": [
      "Tu IMC es: 22.04\n"
     ]
    }
   ],
   "source": [
    "mi_imc = imc(60, 1.65)\n",
    "print(f\"Tu IMC es: {mi_imc:.2f}\")\n"
   ]
  },
  {
   "cell_type": "code",
   "execution_count": 32,
   "metadata": {},
   "outputs": [],
   "source": [
    "def es_mayor_edad(edad):\n",
    "    return edad >= 18\n"
   ]
  },
  {
   "cell_type": "code",
   "execution_count": 33,
   "metadata": {},
   "outputs": [
    {
     "name": "stdout",
     "output_type": "stream",
     "text": [
      "True\n",
      "False\n"
     ]
    }
   ],
   "source": [
    "print(es_mayor_edad(20))  # True\n",
    "print(es_mayor_edad(15))  # False\n"
   ]
  },
  {
   "cell_type": "markdown",
   "metadata": {},
   "source": [
    "---"
   ]
  },
  {
   "cell_type": "markdown",
   "metadata": {},
   "source": [
    "# 🧠  Lección 4: Estructuras de Datos en Python\n",
    "\n",
    "\n",
    "\n",
    "## ¿Qué son las estructuras de datos?\n",
    "\n",
    "Son formas de **organizar, almacenar y acceder** a colecciones de valores.  \n",
    "Se usan para agrupar datos relacionados como listas de temperaturas, fichas de personas, etc.\n",
    "\n",
    "\n",
    "\n",
    "## 1. `list` – Listas\n",
    "\n",
    "Una **lista** es una colección ordenada de elementos, que pueden ser modificados (es **mutable**).\n",
    "\n",
    "```python\n",
    "frutas = [\"manzana\", \"pera\", \"mango\"]\n",
    "print(frutas[0])  # manzana\n"
   ]
  },
  {
   "cell_type": "code",
   "execution_count": 34,
   "metadata": {},
   "outputs": [
    {
     "data": {
      "text/plain": [
       "dict_items([('nombre', 'Ana'), ('edad', 26), ('ciudad', 'Neiva'), ('correo', 'ana@email.com')])"
      ]
     },
     "execution_count": 34,
     "metadata": {},
     "output_type": "execute_result"
    }
   ],
   "source": [
    "#  diccionario- DIC\n",
    "#Un diccionario es una colección de pares clave:valor. Ideal para representar objetos con propiedades.\n",
    "\n",
    "persona = {\"nombre\": \"Ana\", \"edad\": 25, \"ciudad\": \"Neiva\"}\n",
    "\n",
    "\n",
    "# clave: es el nombre del datp, es unica dentro de un diccionario, se uda para acceder a su valor\n",
    "#valor: es el contenido o dato real, puede ser cualquier tipo; tecto, numero, etc...\n",
    "#item: pareja clave:valor\n",
    "\n",
    "\n",
    "#metodos utiles\n",
    "\n",
    "persona[\"edad\"] = 26            # Actualizar valor\n",
    "persona[\"correo\"] = \"ana@email.com\"  # Agregar nuevo par\n",
    "persona.get(\"nombre\")           # Acceder con seguridad\n",
    "persona.keys()                  # Ver claves\n",
    "persona.values()                # Ver valores\n",
    "persona.items()                 # Ver todo como tuplas\n"
   ]
  },
  {
   "cell_type": "code",
   "execution_count": 35,
   "metadata": {},
   "outputs": [],
   "source": [
    "#tupla- TUPLE\n",
    "#Una tupla es como una lista, pero inmutable (no se puede modificar una vez creada).\n",
    "\n",
    "coordenadas = (2.8, -75.1)\n"
   ]
  },
  {
   "cell_type": "code",
   "execution_count": 36,
   "metadata": {},
   "outputs": [],
   "source": [
    "#conjunto- SET\n",
    "#n set es una colección no ordenada y sin duplicados.\n",
    "\n",
    "colores = {\"rojo\", \"verde\", \"azul\"}\n",
    "\n",
    "#metodos utiles\n",
    "colores.add(\"amarillo\")     # Agrega un nuevo valor\n",
    "colores.remove(\"verde\")     # Elimina un valor\n"
   ]
  },
  {
   "cell_type": "code",
   "execution_count": 37,
   "metadata": {},
   "outputs": [],
   "source": [
    "#ejemplo\n",
    "persona = {\n",
    "    \"nombre\": \"Melissa\",\n",
    "    \"edad\": 21,\n",
    "    \"ciudad\": \"Neiva\"\n",
    "}\n"
   ]
  },
  {
   "cell_type": "code",
   "execution_count": 38,
   "metadata": {},
   "outputs": [
    {
     "name": "stdout",
     "output_type": "stream",
     "text": [
      "21\n",
      "dict_keys(['nombre', 'edad', 'ciudad'])\n",
      "dict_values(['Melissa', 21, 'Neiva'])\n",
      "dict_items([('nombre', 'Melissa'), ('edad', 21), ('ciudad', 'Neiva')])\n"
     ]
    }
   ],
   "source": [
    "# Acceder a un valor usando su clave\n",
    "print(persona[\"edad\"])  # 21\n",
    "\n",
    "# Obtener solo las claves\n",
    "print(persona.keys())   # dict_keys(['nombre', 'edad', 'ciudad'])\n",
    "\n",
    "# Obtener solo los valores\n",
    "print(persona.values()) # dict_values(['Melissa', 21, 'Neiva'])\n",
    "\n",
    "# Obtener todos los ítems\n",
    "print(persona.items())\n",
    "# dict_items([('nombre', 'Melissa'), ('edad', 21), ('ciudad', 'Neiva')])\n"
   ]
  },
  {
   "cell_type": "code",
   "execution_count": 39,
   "metadata": {},
   "outputs": [
    {
     "name": "stdout",
     "output_type": "stream",
     "text": [
      "nombre: Melissa\n",
      "edad: 21\n",
      "ciudad: Neiva\n"
     ]
    }
   ],
   "source": [
    "for clave, valor in persona.items():\n",
    "    print(f\"{clave}: {valor}\")\n"
   ]
  },
  {
   "cell_type": "code",
   "execution_count": 40,
   "metadata": {},
   "outputs": [
    {
     "name": "stdout",
     "output_type": "stream",
     "text": [
      "Juan tiene 20 años.\n",
      "Luisa tiene 22 años.\n",
      "Diana tiene 19 años.\n"
     ]
    }
   ],
   "source": [
    "#ejemplo ldiccionario +lista combinados\n",
    "grupo = [\n",
    "    {\"nombre\": \"Juan\", \"edad\": 20},\n",
    "    {\"nombre\": \"Luisa\", \"edad\": 22},\n",
    "    {\"nombre\": \"Diana\", \"edad\": 19}\n",
    "]\n",
    "\n",
    "for estudiante in grupo:\n",
    "    print(f\"{estudiante['nombre']} tiene {estudiante['edad']} años.\")\n"
   ]
  }
 ],
 "metadata": {
  "kernelspec": {
   "display_name": "Python 3",
   "language": "python",
   "name": "python3"
  },
  "language_info": {
   "codemirror_mode": {
    "name": "ipython",
    "version": 3
   },
   "file_extension": ".py",
   "mimetype": "text/x-python",
   "name": "python",
   "nbconvert_exporter": "python",
   "pygments_lexer": "ipython3",
   "version": "3.12.1"
  }
 },
 "nbformat": 4,
 "nbformat_minor": 2
}
