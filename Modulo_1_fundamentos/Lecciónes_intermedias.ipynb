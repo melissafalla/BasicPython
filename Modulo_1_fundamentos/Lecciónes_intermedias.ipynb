{
 "cells": [
  {
   "cell_type": "markdown",
   "metadata": {},
   "source": [
    "# 📂 Lección 5: Manejo de Archivos y Lectura de Datos en Python\n",
    "\n",
    "\n",
    "## ¿Por qué es importante?\n",
    "\n",
    "En análisis de datos, rara vez escribes los datos manualmente.  \n",
    "Usualmente, **los datos vienen en archivos** que necesitas **leer, procesar y transformar**.\n",
    "\n",
    "\n",
    "## 🟢 1. Leer archivos `.txt`\n",
    "\n",
    "### 📘 Lectura línea por línea:\n",
    "\n",
    "```python\n",
    "with open(\"archivo.txt\", \"r\") as archivo:\n",
    "    for linea in archivo:\n",
    "        print(linea.strip())\n",
    "# r significa modo de lectura\n",
    "#with gestiona el arhcico. lo cierra automaticmanet\n",
    "#.strip() elimina de la linea \\n"
   ]
  },
  {
   "cell_type": "code",
   "execution_count": null,
   "metadata": {},
   "outputs": [],
   "source": [
    "#ller archivo  .csv manualmnete \n",
    "with open(\"datos.csv\", \"r\") as archivo:\n",
    "    for linea in archivo:\n",
    "        columnas = linea.strip().split(\",\")\n",
    "        print(columnas)\n",
    "#.split(\",\") es quien debide cada linea usando la coma como separador"
   ]
  },
  {
   "cell_type": "code",
   "execution_count": null,
   "metadata": {},
   "outputs": [],
   "source": [
    "#guardar el dataframe como archivo .csv\n",
    "df.to_csv(\"nuevo_archivo.csv\", index=False)"
   ]
  },
  {
   "cell_type": "markdown",
   "metadata": {},
   "source": [
    "---"
   ]
  },
  {
   "cell_type": "markdown",
   "metadata": {},
   "source": [
    "# 🐼 Lección 6: Introducción a `pandas` para Análisis de Datos\n",
    "\n",
    "\n",
    "## 📌 ¿Qué es `pandas`?\n",
    "\n",
    "`pandas` es una librería de Python que permite:\n",
    "- Leer archivos (`.csv`, `.xlsx`, etc.)\n",
    "- Manipular, filtrar y transformar datos\n",
    "- Trabajar con tablas (`DataFrames`) y columnas (`Series`)\n",
    "- Analizar datos de forma sencilla y poderosa\n",
    "\n",
    "## 🛠️ Instalación (si lo necesitas)\n",
    "\n",
    "```bash\n",
    "pip install pandas\n"
   ]
  },
  {
   "cell_type": "code",
   "execution_count": null,
   "metadata": {},
   "outputs": [],
   "source": [
    "df.head()         # Primeras 5 filas\n",
    "df.tail()         # Últimas 5 filas\n",
    "df.info()         # Información general\n",
    "df.shape          # Filas y columnas\n",
    "df.columns        # Nombres de columnas\n",
    "df.describe()     # Estadísticas resumen (solo numéricas)\n",
    "df.dtypes.        #tipo de datos"
   ]
  },
  {
   "cell_type": "code",
   "execution_count": null,
   "metadata": {},
   "outputs": [],
   "source": [
    "#para filtrar datos\n",
    "# Personas mayores de 18\n",
    "df[df[\"edad\"] > 18]\n",
    "\n",
    "# Filtrar por texto\n",
    "df[df[\"ciudad\"] == \"Bogota\"]\n"
   ]
  },
  {
   "cell_type": "code",
   "execution_count": null,
   "metadata": {},
   "outputs": [],
   "source": [
    "#ejmelo: crear un Dataframe desde un dccionario\n",
    "data = {\n",
    "    \"nombre\": [\"Ana\", \"Luis\", \"Camilo\"],\n",
    "    \"edad\": [20, 22, 21],\n",
    "    \"ciudad\": [\"Neiva\", \"Bogotá\", \"Neiva\"]\n",
    "}\n",
    "\n",
    "df = pd.DataFrame(data)\n",
    "print(df)\n"
   ]
  },
  {
   "cell_type": "code",
   "execution_count": null,
   "metadata": {},
   "outputs": [],
   "source": [
    "#leer un .csv y .xlsx\n",
    "\n",
    "df = pd.read_csv(\"anombre del archivo.csv\")\n",
    "\n",
    "df = pd.read_excel(\"nombre del archivo.xlsx)"
   ]
  },
  {
   "cell_type": "code",
   "execution_count": null,
   "metadata": {},
   "outputs": [],
   "source": [
    "# FILTRA DAT0S\n",
    "\n",
    "df[\"edad\"]               # Una columna\n",
    "df[[\"nombre\", \"edad\"]]   # Varias columnas\n",
    "\n",
    "#Filtrar filas\n",
    "df[df[\"edad\"] > 21]\n",
    "df[df[\"ciudad\"] == \"Neiva\"]\n",
    "\n",
    "#filtatr conn condiciones\n",
    "df[(df[\"edad\"] > 21) & (df[\"ciudad\"] == \"Neiva\")]\n",
    "df[(df[\"carrera\"] == \"Matemáticas\") | (df[\"carrera\"] == \"Ingeniería\")]\n",
    "# & para AND y | para OR\n",
    "\n",
    "\n",
    "#filtar para filas cpon indice\n",
    "#.iloc[] parea posicion numerica\n",
    "#.loc[] por indice o nombre\n",
    "df.iloc[0]           # Primera fila\n",
    "df.iloc[0:3]         # Primeras 3 filas\n",
    "df.loc[2]            # Fila con índice 2\n",
    "\n",
    "#agregar, modificar y eliminar columnas\n",
    "df[\"mayor_edad\"] = df[\"edad\"] >= 18\n",
    "\n",
    "df[\"nombre_completo\"] = df[\"nombre\"] + \" Pérez\"\n",
    "\n",
    "del df[\"nombre_completo\"]  # Eliminar una columna\n"
   ]
  },
  {
   "cell_type": "code",
   "execution_count": null,
   "metadata": {},
   "outputs": [],
   "source": [
    "#ANALIZAR DATOS \n",
    "\n",
    "df.groupby(\"ciudad\")[\"edad\"].mean()  # Edad promedio por ciudad\n",
    "df.groupby(\"carrera\").size()         # Conteo por carrera\n",
    "\n",
    "df[\"carrera\"].value_counts().    #Contar valores unicos\n",
    "\n",
    "\n",
    "\n",
    "\n",
    "f.isnull().sum()       # Cuántos nulos hay por columna\n",
    "df.isna().mean() * 100  # Porcentaje de nulos por columna\n",
    "\n",
    "df.dropna()                   # Elimina filas con nulos\n",
    "df.fillna(0)                  # Rellena con 0\n",
    "df[\"columna\"].fillna(\"Desconocido\", inplace=True)\n"
   ]
  },
  {
   "cell_type": "code",
   "execution_count": null,
   "metadata": {},
   "outputs": [],
   "source": [
    "#TRANSFORMAR DATOS\n",
    "\n",
    "#cambiar nombres de las columnas \n",
    "df.rename(columns={\"Nombre\": \"nombre\"}, inplace=True)\n",
    "df.columns = df.columns.str.lower().str.replace(\" \", \"_\")\n",
    "\n",
    "\n",
    "#reemplazar valores \n",
    "df[\"genero\"].replace({\"M\": \"Masculino\", \"F\": \"Femenino\"}, inplace=True)\n"
   ]
  },
  {
   "cell_type": "code",
   "execution_count": null,
   "metadata": {},
   "outputs": [],
   "source": [
    "#ESTADISTICAS DESCRITIVAS POR GRUPO\n",
    "\n",
    "df.groupby(\"ciudad\")[\"edad\"].mean()             # Edad promedio por ciudad\n",
    "df.groupby([\"ciudad\", \"carrera\"]).size()        # Conteo doble\n",
    "df.groupby(\"carrera\")[\"edad\"].agg([\"mean\", \"std\", \"min\", \"max\"])\n"
   ]
  },
  {
   "cell_type": "code",
   "execution_count": null,
   "metadata": {},
   "outputs": [],
   "source": [
    "#FUNCIONES PERSONALIZADAS\n",
    "\n",
    "#con apply() \n",
    "\n",
    "def clasificar_edad(e):\n",
    "    if e < 18:\n",
    "        return \"menor\"\n",
    "    elif <60:\n",
    "        return \"adulto\"\n",
    "    else:\n",
    "        return \"mayor\"\n",
    "\n",
    "df[\"grupo_edad\"] = df[\"edad\"].apply(clasificar_edad)\n"
   ]
  },
  {
   "cell_type": "code",
   "execution_count": null,
   "metadata": {},
   "outputs": [],
   "source": [
    "#ANALISIIS DE CORRELACIONES\n",
    "\n",
    "#usar .corr() para varible numerica\n",
    "df.corr(numeric_only=True)   # Matriz de correlación\n",
    "\n",
    "#filtro para correlaciones altas\n",
    "cor = df.corr(numeric_only=True)\n",
    "cor[abs(cor) > 0.8]          # Solo las correlaciones fuertes\n",
    "\n",
    "#pivot tables\n",
    "pd.pivot_table(df, values=\"edad\", index=\"ciudad\", columns=\"carrera\", aggfunc=\"mean\")\n",
    "\n",
    "#valores atipicos \n",
    "q1 = df[\"edad\"].quantile(0.25)\n",
    "q3 = df[\"edad\"].quantile(0.75)\n",
    "iqr = q3 - q1\n",
    "\n",
    "limite_inferior = q1 - 1.5 * iqr\n",
    "limite_superior = q3 + 1.5 * iqr\n",
    "\n",
    "outliers = df[(df[\"edad\"] < limite_inferior) | (df[\"edad\"] > limite_superior)]\n"
   ]
  },
  {
   "cell_type": "markdown",
   "metadata": {},
   "source": [
    "---"
   ]
  },
  {
   "cell_type": "markdown",
   "metadata": {},
   "source": [
    "# 🧪 Proyecto guiado: Análisis profundo de datos con `pandas`\n",
    "\n",
    "\n",
    "## 📁 Dataset sugerido: `estudiantes.csv`\n",
    "\n",
    "Imagina que tienes un archivo CSV con esta estructura:\n",
    "\n",
    "| nombre   | edad | ciudad  | carrera                   | nota_final |\n",
    "|----------|------|---------|---------------------------|------------|\n",
    "| Ana      | 20   | Neiva   | Matemáticas               | 4.3        |\n",
    "| Luis     | 22   | Bogotá  | Ingeniería                | 3.8        |\n",
    "| Camila   | 19   | Neiva   | Matemáticas               | 4.7        |\n",
    "| Juan     | NaN  | Cali    | Administración            | 3.2        |\n",
    "| Laura    | 23   | Bogotá  | Ingeniería                | 2.9        |\n",
    "| Pedro    | 22   | Neiva   | Ciencias de datos         | NaN        |\n",
    "\n",
    "\n",
    "\n",
    "## 🧩 Paso 1: Cargar y explorar el dataset\n",
    "\n",
    "```python\n",
    "import pandas as pd\n",
    "\n",
    "df = pd.read_csv(\"estudiantes.csv\")\n",
    "df.head()\n",
    "df.info()\n"
   ]
  },
  {
   "cell_type": "code",
   "execution_count": 5,
   "metadata": {},
   "outputs": [],
   "source": [
    "import pandas as pd"
   ]
  },
  {
   "cell_type": "code",
   "execution_count": 7,
   "metadata": {},
   "outputs": [],
   "source": [
    "df = pd.read_csv(\"estudiantes.csv\")"
   ]
  },
  {
   "cell_type": "code",
   "execution_count": 8,
   "metadata": {},
   "outputs": [
    {
     "data": {
      "text/html": [
       "<div>\n",
       "<style scoped>\n",
       "    .dataframe tbody tr th:only-of-type {\n",
       "        vertical-align: middle;\n",
       "    }\n",
       "\n",
       "    .dataframe tbody tr th {\n",
       "        vertical-align: top;\n",
       "    }\n",
       "\n",
       "    .dataframe thead th {\n",
       "        text-align: right;\n",
       "    }\n",
       "</style>\n",
       "<table border=\"1\" class=\"dataframe\">\n",
       "  <thead>\n",
       "    <tr style=\"text-align: right;\">\n",
       "      <th></th>\n",
       "      <th>nombre</th>\n",
       "      <th>edad</th>\n",
       "      <th>ciudad</th>\n",
       "      <th>carrera</th>\n",
       "      <th>nota_final</th>\n",
       "    </tr>\n",
       "  </thead>\n",
       "  <tbody>\n",
       "    <tr>\n",
       "      <th>0</th>\n",
       "      <td>Ana</td>\n",
       "      <td>20.0</td>\n",
       "      <td>Neiva</td>\n",
       "      <td>Matemáticas</td>\n",
       "      <td>4.3</td>\n",
       "    </tr>\n",
       "    <tr>\n",
       "      <th>1</th>\n",
       "      <td>Luis</td>\n",
       "      <td>22.0</td>\n",
       "      <td>Bogotá</td>\n",
       "      <td>Ingeniería</td>\n",
       "      <td>3.8</td>\n",
       "    </tr>\n",
       "    <tr>\n",
       "      <th>2</th>\n",
       "      <td>Camila</td>\n",
       "      <td>19.0</td>\n",
       "      <td>Neiva</td>\n",
       "      <td>Matemáticas</td>\n",
       "      <td>4.7</td>\n",
       "    </tr>\n",
       "    <tr>\n",
       "      <th>3</th>\n",
       "      <td>Juan</td>\n",
       "      <td>NaN</td>\n",
       "      <td>Cali</td>\n",
       "      <td>Administración</td>\n",
       "      <td>3.2</td>\n",
       "    </tr>\n",
       "    <tr>\n",
       "      <th>4</th>\n",
       "      <td>Laura</td>\n",
       "      <td>23.0</td>\n",
       "      <td>Bogotá</td>\n",
       "      <td>Ingeniería</td>\n",
       "      <td>2.9</td>\n",
       "    </tr>\n",
       "  </tbody>\n",
       "</table>\n",
       "</div>"
      ],
      "text/plain": [
       "   nombre  edad  ciudad         carrera  nota_final\n",
       "0     Ana  20.0   Neiva     Matemáticas         4.3\n",
       "1    Luis  22.0  Bogotá      Ingeniería         3.8\n",
       "2  Camila  19.0   Neiva     Matemáticas         4.7\n",
       "3    Juan   NaN    Cali  Administración         3.2\n",
       "4   Laura  23.0  Bogotá      Ingeniería         2.9"
      ]
     },
     "execution_count": 8,
     "metadata": {},
     "output_type": "execute_result"
    }
   ],
   "source": [
    "df.head()"
   ]
  },
  {
   "cell_type": "code",
   "execution_count": 10,
   "metadata": {},
   "outputs": [
    {
     "data": {
      "text/html": [
       "<div>\n",
       "<style scoped>\n",
       "    .dataframe tbody tr th:only-of-type {\n",
       "        vertical-align: middle;\n",
       "    }\n",
       "\n",
       "    .dataframe tbody tr th {\n",
       "        vertical-align: top;\n",
       "    }\n",
       "\n",
       "    .dataframe thead th {\n",
       "        text-align: right;\n",
       "    }\n",
       "</style>\n",
       "<table border=\"1\" class=\"dataframe\">\n",
       "  <thead>\n",
       "    <tr style=\"text-align: right;\">\n",
       "      <th></th>\n",
       "      <th>nombre</th>\n",
       "      <th>edad</th>\n",
       "      <th>ciudad</th>\n",
       "      <th>carrera</th>\n",
       "      <th>nota_final</th>\n",
       "    </tr>\n",
       "  </thead>\n",
       "  <tbody>\n",
       "    <tr>\n",
       "      <th>1</th>\n",
       "      <td>Luis</td>\n",
       "      <td>22.0</td>\n",
       "      <td>Bogotá</td>\n",
       "      <td>Ingeniería</td>\n",
       "      <td>3.8</td>\n",
       "    </tr>\n",
       "    <tr>\n",
       "      <th>2</th>\n",
       "      <td>Camila</td>\n",
       "      <td>19.0</td>\n",
       "      <td>Neiva</td>\n",
       "      <td>Matemáticas</td>\n",
       "      <td>4.7</td>\n",
       "    </tr>\n",
       "    <tr>\n",
       "      <th>3</th>\n",
       "      <td>Juan</td>\n",
       "      <td>NaN</td>\n",
       "      <td>Cali</td>\n",
       "      <td>Administración</td>\n",
       "      <td>3.2</td>\n",
       "    </tr>\n",
       "    <tr>\n",
       "      <th>4</th>\n",
       "      <td>Laura</td>\n",
       "      <td>23.0</td>\n",
       "      <td>Bogotá</td>\n",
       "      <td>Ingeniería</td>\n",
       "      <td>2.9</td>\n",
       "    </tr>\n",
       "    <tr>\n",
       "      <th>5</th>\n",
       "      <td>Pedro</td>\n",
       "      <td>22.0</td>\n",
       "      <td>Neiva</td>\n",
       "      <td>Ciencias de datos</td>\n",
       "      <td>NaN</td>\n",
       "    </tr>\n",
       "  </tbody>\n",
       "</table>\n",
       "</div>"
      ],
      "text/plain": [
       "   nombre  edad  ciudad            carrera  nota_final\n",
       "1    Luis  22.0  Bogotá         Ingeniería         3.8\n",
       "2  Camila  19.0   Neiva        Matemáticas         4.7\n",
       "3    Juan   NaN    Cali     Administración         3.2\n",
       "4   Laura  23.0  Bogotá         Ingeniería         2.9\n",
       "5   Pedro  22.0   Neiva  Ciencias de datos         NaN"
      ]
     },
     "execution_count": 10,
     "metadata": {},
     "output_type": "execute_result"
    }
   ],
   "source": [
    "df.tail()"
   ]
  },
  {
   "cell_type": "code",
   "execution_count": 12,
   "metadata": {},
   "outputs": [
    {
     "name": "stdout",
     "output_type": "stream",
     "text": [
      "<class 'pandas.core.frame.DataFrame'>\n",
      "RangeIndex: 6 entries, 0 to 5\n",
      "Data columns (total 5 columns):\n",
      " #   Column      Non-Null Count  Dtype  \n",
      "---  ------      --------------  -----  \n",
      " 0   nombre      6 non-null      object \n",
      " 1   edad        5 non-null      float64\n",
      " 2   ciudad      6 non-null      object \n",
      " 3   carrera     6 non-null      object \n",
      " 4   nota_final  5 non-null      float64\n",
      "dtypes: float64(2), object(3)\n",
      "memory usage: 372.0+ bytes\n"
     ]
    }
   ],
   "source": [
    "df.info()"
   ]
  },
  {
   "cell_type": "code",
   "execution_count": 13,
   "metadata": {},
   "outputs": [
    {
     "data": {
      "text/html": [
       "<div>\n",
       "<style scoped>\n",
       "    .dataframe tbody tr th:only-of-type {\n",
       "        vertical-align: middle;\n",
       "    }\n",
       "\n",
       "    .dataframe tbody tr th {\n",
       "        vertical-align: top;\n",
       "    }\n",
       "\n",
       "    .dataframe thead th {\n",
       "        text-align: right;\n",
       "    }\n",
       "</style>\n",
       "<table border=\"1\" class=\"dataframe\">\n",
       "  <thead>\n",
       "    <tr style=\"text-align: right;\">\n",
       "      <th></th>\n",
       "      <th>edad</th>\n",
       "      <th>nota_final</th>\n",
       "    </tr>\n",
       "  </thead>\n",
       "  <tbody>\n",
       "    <tr>\n",
       "      <th>count</th>\n",
       "      <td>5.000000</td>\n",
       "      <td>5.000000</td>\n",
       "    </tr>\n",
       "    <tr>\n",
       "      <th>mean</th>\n",
       "      <td>21.200000</td>\n",
       "      <td>3.780000</td>\n",
       "    </tr>\n",
       "    <tr>\n",
       "      <th>std</th>\n",
       "      <td>1.643168</td>\n",
       "      <td>0.746324</td>\n",
       "    </tr>\n",
       "    <tr>\n",
       "      <th>min</th>\n",
       "      <td>19.000000</td>\n",
       "      <td>2.900000</td>\n",
       "    </tr>\n",
       "    <tr>\n",
       "      <th>25%</th>\n",
       "      <td>20.000000</td>\n",
       "      <td>3.200000</td>\n",
       "    </tr>\n",
       "    <tr>\n",
       "      <th>50%</th>\n",
       "      <td>22.000000</td>\n",
       "      <td>3.800000</td>\n",
       "    </tr>\n",
       "    <tr>\n",
       "      <th>75%</th>\n",
       "      <td>22.000000</td>\n",
       "      <td>4.300000</td>\n",
       "    </tr>\n",
       "    <tr>\n",
       "      <th>max</th>\n",
       "      <td>23.000000</td>\n",
       "      <td>4.700000</td>\n",
       "    </tr>\n",
       "  </tbody>\n",
       "</table>\n",
       "</div>"
      ],
      "text/plain": [
       "            edad  nota_final\n",
       "count   5.000000    5.000000\n",
       "mean   21.200000    3.780000\n",
       "std     1.643168    0.746324\n",
       "min    19.000000    2.900000\n",
       "25%    20.000000    3.200000\n",
       "50%    22.000000    3.800000\n",
       "75%    22.000000    4.300000\n",
       "max    23.000000    4.700000"
      ]
     },
     "execution_count": 13,
     "metadata": {},
     "output_type": "execute_result"
    }
   ],
   "source": [
    "df.describe()"
   ]
  },
  {
   "cell_type": "code",
   "execution_count": null,
   "metadata": {},
   "outputs": [
    {
     "data": {
      "text/html": [
       "<div>\n",
       "<style scoped>\n",
       "    .dataframe tbody tr th:only-of-type {\n",
       "        vertical-align: middle;\n",
       "    }\n",
       "\n",
       "    .dataframe tbody tr th {\n",
       "        vertical-align: top;\n",
       "    }\n",
       "\n",
       "    .dataframe thead th {\n",
       "        text-align: right;\n",
       "    }\n",
       "</style>\n",
       "<table border=\"1\" class=\"dataframe\">\n",
       "  <thead>\n",
       "    <tr style=\"text-align: right;\">\n",
       "      <th></th>\n",
       "      <th>nombre</th>\n",
       "      <th>edad</th>\n",
       "      <th>ciudad</th>\n",
       "      <th>carrera</th>\n",
       "      <th>nota_final</th>\n",
       "    </tr>\n",
       "  </thead>\n",
       "  <tbody>\n",
       "    <tr>\n",
       "      <th>0</th>\n",
       "      <td>Ana</td>\n",
       "      <td>20.0</td>\n",
       "      <td>Neiva</td>\n",
       "      <td>Matemáticas</td>\n",
       "      <td>4.3</td>\n",
       "    </tr>\n",
       "    <tr>\n",
       "      <th>1</th>\n",
       "      <td>Luis</td>\n",
       "      <td>22.0</td>\n",
       "      <td>Bogotá</td>\n",
       "      <td>Ingeniería</td>\n",
       "      <td>3.8</td>\n",
       "    </tr>\n",
       "    <tr>\n",
       "      <th>2</th>\n",
       "      <td>Camila</td>\n",
       "      <td>19.0</td>\n",
       "      <td>Neiva</td>\n",
       "      <td>Matemáticas</td>\n",
       "      <td>4.7</td>\n",
       "    </tr>\n",
       "    <tr>\n",
       "      <th>3</th>\n",
       "      <td>Juan</td>\n",
       "      <td>NaN</td>\n",
       "      <td>Cali</td>\n",
       "      <td>Administración</td>\n",
       "      <td>3.2</td>\n",
       "    </tr>\n",
       "    <tr>\n",
       "      <th>4</th>\n",
       "      <td>Laura</td>\n",
       "      <td>23.0</td>\n",
       "      <td>Bogotá</td>\n",
       "      <td>Ingeniería</td>\n",
       "      <td>2.9</td>\n",
       "    </tr>\n",
       "    <tr>\n",
       "      <th>5</th>\n",
       "      <td>Pedro</td>\n",
       "      <td>22.0</td>\n",
       "      <td>Neiva</td>\n",
       "      <td>Ciencias de datos</td>\n",
       "      <td>NaN</td>\n",
       "    </tr>\n",
       "  </tbody>\n",
       "</table>\n",
       "</div>"
      ],
      "text/plain": [
       "   nombre  edad  ciudad            carrera  nota_final\n",
       "0     Ana  20.0   Neiva        Matemáticas         4.3\n",
       "1    Luis  22.0  Bogotá         Ingeniería         3.8\n",
       "2  Camila  19.0   Neiva        Matemáticas         4.7\n",
       "3    Juan   NaN    Cali     Administración         3.2\n",
       "4   Laura  23.0  Bogotá         Ingeniería         2.9\n",
       "5   Pedro  22.0   Neiva  Ciencias de datos         NaN"
      ]
     },
     "execution_count": 16,
     "metadata": {},
     "output_type": "execute_result"
    }
   ],
   "source": [
    "df.columns = df.columns.str.lower().str.replace(\" \", \"_\")\n",
    "df.head(6)\n",
    "#renombrar lac columnas a formato limpio"
   ]
  },
  {
   "cell_type": "code",
   "execution_count": 17,
   "metadata": {},
   "outputs": [
    {
     "data": {
      "text/plain": [
       "nombre        0\n",
       "edad          1\n",
       "ciudad        0\n",
       "carrera       0\n",
       "nota_final    1\n",
       "dtype: int64"
      ]
     },
     "execution_count": 17,
     "metadata": {},
     "output_type": "execute_result"
    }
   ],
   "source": [
    "# Verificar valores nulos\n",
    "df.isnull().sum()\n"
   ]
  },
  {
   "cell_type": "code",
   "execution_count": 21,
   "metadata": {},
   "outputs": [
    {
     "data": {
      "text/html": [
       "<div>\n",
       "<style scoped>\n",
       "    .dataframe tbody tr th:only-of-type {\n",
       "        vertical-align: middle;\n",
       "    }\n",
       "\n",
       "    .dataframe tbody tr th {\n",
       "        vertical-align: top;\n",
       "    }\n",
       "\n",
       "    .dataframe thead th {\n",
       "        text-align: right;\n",
       "    }\n",
       "</style>\n",
       "<table border=\"1\" class=\"dataframe\">\n",
       "  <thead>\n",
       "    <tr style=\"text-align: right;\">\n",
       "      <th></th>\n",
       "      <th>nombre</th>\n",
       "      <th>edad</th>\n",
       "      <th>ciudad</th>\n",
       "      <th>carrera</th>\n",
       "      <th>nota_final</th>\n",
       "    </tr>\n",
       "  </thead>\n",
       "  <tbody>\n",
       "    <tr>\n",
       "      <th>0</th>\n",
       "      <td>Ana</td>\n",
       "      <td>20.0</td>\n",
       "      <td>Neiva</td>\n",
       "      <td>Matemáticas</td>\n",
       "      <td>4.3</td>\n",
       "    </tr>\n",
       "    <tr>\n",
       "      <th>1</th>\n",
       "      <td>Luis</td>\n",
       "      <td>22.0</td>\n",
       "      <td>Bogotá</td>\n",
       "      <td>Ingeniería</td>\n",
       "      <td>3.8</td>\n",
       "    </tr>\n",
       "    <tr>\n",
       "      <th>2</th>\n",
       "      <td>Camila</td>\n",
       "      <td>19.0</td>\n",
       "      <td>Neiva</td>\n",
       "      <td>Matemáticas</td>\n",
       "      <td>4.7</td>\n",
       "    </tr>\n",
       "    <tr>\n",
       "      <th>3</th>\n",
       "      <td>Juan</td>\n",
       "      <td>NaN</td>\n",
       "      <td>Cali</td>\n",
       "      <td>Administración</td>\n",
       "      <td>3.2</td>\n",
       "    </tr>\n",
       "    <tr>\n",
       "      <th>4</th>\n",
       "      <td>Laura</td>\n",
       "      <td>23.0</td>\n",
       "      <td>Bogotá</td>\n",
       "      <td>Ingeniería</td>\n",
       "      <td>2.9</td>\n",
       "    </tr>\n",
       "  </tbody>\n",
       "</table>\n",
       "</div>"
      ],
      "text/plain": [
       "   nombre  edad  ciudad         carrera  nota_final\n",
       "0     Ana  20.0   Neiva     Matemáticas         4.3\n",
       "1    Luis  22.0  Bogotá      Ingeniería         3.8\n",
       "2  Camila  19.0   Neiva     Matemáticas         4.7\n",
       "3    Juan   NaN    Cali  Administración         3.2\n",
       "4   Laura  23.0  Bogotá      Ingeniería         2.9"
      ]
     },
     "execution_count": 21,
     "metadata": {},
     "output_type": "execute_result"
    }
   ],
   "source": [
    "# Eliminar filas con nota faltante\n",
    "df = df.dropna(subset=[\"nota_final\"])\n",
    "df.head(6)"
   ]
  },
  {
   "cell_type": "code",
   "execution_count": 23,
   "metadata": {},
   "outputs": [
    {
     "data": {
      "text/html": [
       "<div>\n",
       "<style scoped>\n",
       "    .dataframe tbody tr th:only-of-type {\n",
       "        vertical-align: middle;\n",
       "    }\n",
       "\n",
       "    .dataframe tbody tr th {\n",
       "        vertical-align: top;\n",
       "    }\n",
       "\n",
       "    .dataframe thead th {\n",
       "        text-align: right;\n",
       "    }\n",
       "</style>\n",
       "<table border=\"1\" class=\"dataframe\">\n",
       "  <thead>\n",
       "    <tr style=\"text-align: right;\">\n",
       "      <th></th>\n",
       "      <th>nombre</th>\n",
       "      <th>edad</th>\n",
       "      <th>ciudad</th>\n",
       "      <th>carrera</th>\n",
       "      <th>nota_final</th>\n",
       "    </tr>\n",
       "  </thead>\n",
       "  <tbody>\n",
       "    <tr>\n",
       "      <th>0</th>\n",
       "      <td>Ana</td>\n",
       "      <td>20.0</td>\n",
       "      <td>Neiva</td>\n",
       "      <td>Matemáticas</td>\n",
       "      <td>4.3</td>\n",
       "    </tr>\n",
       "    <tr>\n",
       "      <th>1</th>\n",
       "      <td>Luis</td>\n",
       "      <td>22.0</td>\n",
       "      <td>Bogotá</td>\n",
       "      <td>Ingeniería</td>\n",
       "      <td>3.8</td>\n",
       "    </tr>\n",
       "    <tr>\n",
       "      <th>2</th>\n",
       "      <td>Camila</td>\n",
       "      <td>19.0</td>\n",
       "      <td>Neiva</td>\n",
       "      <td>Matemáticas</td>\n",
       "      <td>4.7</td>\n",
       "    </tr>\n",
       "    <tr>\n",
       "      <th>3</th>\n",
       "      <td>Juan</td>\n",
       "      <td>21.0</td>\n",
       "      <td>Cali</td>\n",
       "      <td>Administración</td>\n",
       "      <td>3.2</td>\n",
       "    </tr>\n",
       "    <tr>\n",
       "      <th>4</th>\n",
       "      <td>Laura</td>\n",
       "      <td>23.0</td>\n",
       "      <td>Bogotá</td>\n",
       "      <td>Ingeniería</td>\n",
       "      <td>2.9</td>\n",
       "    </tr>\n",
       "  </tbody>\n",
       "</table>\n",
       "</div>"
      ],
      "text/plain": [
       "   nombre  edad  ciudad         carrera  nota_final\n",
       "0     Ana  20.0   Neiva     Matemáticas         4.3\n",
       "1    Luis  22.0  Bogotá      Ingeniería         3.8\n",
       "2  Camila  19.0   Neiva     Matemáticas         4.7\n",
       "3    Juan  21.0    Cali  Administración         3.2\n",
       "4   Laura  23.0  Bogotá      Ingeniería         2.9"
      ]
     },
     "execution_count": 23,
     "metadata": {},
     "output_type": "execute_result"
    }
   ],
   "source": [
    "# Rellenar edad faltante con la media\n",
    "df[\"edad\"] = df[\"edad\"].fillna(df[\"edad\"].mean())\n",
    "df.head(5)\n"
   ]
  },
  {
   "cell_type": "code",
   "execution_count": 27,
   "metadata": {},
   "outputs": [
    {
     "data": {
      "text/plain": [
       "array(['Matemáticas', 'Ingeniería', 'Administración'], dtype=object)"
      ]
     },
     "execution_count": 27,
     "metadata": {},
     "output_type": "execute_result"
    }
   ],
   "source": [
    "\n",
    "# Carreras únicas\n",
    "df[\"carrera\"].unique()\n"
   ]
  },
  {
   "cell_type": "code",
   "execution_count": 28,
   "metadata": {},
   "outputs": [
    {
     "data": {
      "text/plain": [
       "carrera\n",
       "Matemáticas       2\n",
       "Ingeniería        2\n",
       "Administración    1\n",
       "Name: count, dtype: int64"
      ]
     },
     "execution_count": 28,
     "metadata": {},
     "output_type": "execute_result"
    }
   ],
   "source": [
    "# Conteo por carrera\n",
    "df[\"carrera\"].value_counts()"
   ]
  },
  {
   "cell_type": "code",
   "execution_count": 34,
   "metadata": {},
   "outputs": [
    {
     "data": {
      "text/plain": [
       "ciudad\n",
       "Bogotá    3.35\n",
       "Cali      3.20\n",
       "Neiva     4.50\n",
       "Name: nota_final, dtype: float64"
      ]
     },
     "execution_count": 34,
     "metadata": {},
     "output_type": "execute_result"
    }
   ],
   "source": [
    "# Nota promedio por ciudad\n",
    "df.groupby(\"ciudad\")[\"nota_final\"].mean()\n",
    "\n"
   ]
  },
  {
   "cell_type": "code",
   "execution_count": 33,
   "metadata": {},
   "outputs": [
    {
     "data": {
      "text/plain": [
       "carrera\n",
       "Administración    21.0\n",
       "Ingeniería        22.5\n",
       "Matemáticas       19.5\n",
       "Name: edad, dtype: float64"
      ]
     },
     "execution_count": 33,
     "metadata": {},
     "output_type": "execute_result"
    }
   ],
   "source": [
    "\n",
    "# Edad promedio por carrera\n",
    "df.groupby(\"carrera\")[\"edad\"].mean()\n",
    "\n"
   ]
  },
  {
   "cell_type": "code",
   "execution_count": 35,
   "metadata": {},
   "outputs": [
    {
     "data": {
      "text/plain": [
       "carrera\n",
       "Administración    3.2\n",
       "Ingeniería        3.8\n",
       "Matemáticas       4.7\n",
       "Name: nota_final, dtype: float64"
      ]
     },
     "execution_count": 35,
     "metadata": {},
     "output_type": "execute_result"
    }
   ],
   "source": [
    "\n",
    "# Nota máxima por carrera\n",
    "df.groupby(\"carrera\")[\"nota_final\"].max()\n"
   ]
  },
  {
   "cell_type": "code",
   "execution_count": 39,
   "metadata": {},
   "outputs": [],
   "source": [
    "# Clasificar si aprueba (nota >= 3.0)\n",
    "df[\"aprueba\"] = df[\"nota_final\"] >= 3.0\n",
    "\n",
    "# Clasificar edad\n",
    "def clasificar_edad(edad):\n",
    "    if edad < 21:\n",
    "        return \"menor\"\n",
    "    elif edad < 25:\n",
    "        return \"joven\"\n",
    "    else:\n",
    "        return \"adulto\"\n",
    "\n",
    "df[\"grupo_edad\"] = df[\"edad\"].apply(clasificar_edad)"
   ]
  },
  {
   "cell_type": "code",
   "execution_count": 40,
   "metadata": {},
   "outputs": [
    {
     "data": {
      "text/html": [
       "<div>\n",
       "<style scoped>\n",
       "    .dataframe tbody tr th:only-of-type {\n",
       "        vertical-align: middle;\n",
       "    }\n",
       "\n",
       "    .dataframe tbody tr th {\n",
       "        vertical-align: top;\n",
       "    }\n",
       "\n",
       "    .dataframe thead th {\n",
       "        text-align: right;\n",
       "    }\n",
       "</style>\n",
       "<table border=\"1\" class=\"dataframe\">\n",
       "  <thead>\n",
       "    <tr style=\"text-align: right;\">\n",
       "      <th></th>\n",
       "      <th>nombre</th>\n",
       "      <th>edad</th>\n",
       "      <th>ciudad</th>\n",
       "      <th>carrera</th>\n",
       "      <th>nota_final</th>\n",
       "      <th>aprueba</th>\n",
       "      <th>grupo_edad</th>\n",
       "    </tr>\n",
       "  </thead>\n",
       "  <tbody>\n",
       "    <tr>\n",
       "      <th>0</th>\n",
       "      <td>Ana</td>\n",
       "      <td>20.0</td>\n",
       "      <td>Neiva</td>\n",
       "      <td>Matemáticas</td>\n",
       "      <td>4.3</td>\n",
       "      <td>True</td>\n",
       "      <td>menor</td>\n",
       "    </tr>\n",
       "    <tr>\n",
       "      <th>1</th>\n",
       "      <td>Luis</td>\n",
       "      <td>22.0</td>\n",
       "      <td>Bogotá</td>\n",
       "      <td>Ingeniería</td>\n",
       "      <td>3.8</td>\n",
       "      <td>True</td>\n",
       "      <td>joven</td>\n",
       "    </tr>\n",
       "    <tr>\n",
       "      <th>2</th>\n",
       "      <td>Camila</td>\n",
       "      <td>19.0</td>\n",
       "      <td>Neiva</td>\n",
       "      <td>Matemáticas</td>\n",
       "      <td>4.7</td>\n",
       "      <td>True</td>\n",
       "      <td>menor</td>\n",
       "    </tr>\n",
       "    <tr>\n",
       "      <th>3</th>\n",
       "      <td>Juan</td>\n",
       "      <td>21.0</td>\n",
       "      <td>Cali</td>\n",
       "      <td>Administración</td>\n",
       "      <td>3.2</td>\n",
       "      <td>True</td>\n",
       "      <td>joven</td>\n",
       "    </tr>\n",
       "    <tr>\n",
       "      <th>4</th>\n",
       "      <td>Laura</td>\n",
       "      <td>23.0</td>\n",
       "      <td>Bogotá</td>\n",
       "      <td>Ingeniería</td>\n",
       "      <td>2.9</td>\n",
       "      <td>False</td>\n",
       "      <td>joven</td>\n",
       "    </tr>\n",
       "  </tbody>\n",
       "</table>\n",
       "</div>"
      ],
      "text/plain": [
       "   nombre  edad  ciudad         carrera  nota_final  aprueba grupo_edad\n",
       "0     Ana  20.0   Neiva     Matemáticas         4.3     True      menor\n",
       "1    Luis  22.0  Bogotá      Ingeniería         3.8     True      joven\n",
       "2  Camila  19.0   Neiva     Matemáticas         4.7     True      menor\n",
       "3    Juan  21.0    Cali  Administración         3.2     True      joven\n",
       "4   Laura  23.0  Bogotá      Ingeniería         2.9    False      joven"
      ]
     },
     "execution_count": 40,
     "metadata": {},
     "output_type": "execute_result"
    }
   ],
   "source": [
    "df.head()"
   ]
  },
  {
   "cell_type": "code",
   "execution_count": 42,
   "metadata": {},
   "outputs": [],
   "source": [
    "q1 = df[\"nota_final\"].quantile(0.25)\n",
    "q3 = df[\"nota_final\"].quantile(0.75)\n",
    "iqr = q3 - q1\n",
    "\n",
    "lim_inf = q1 - 1.5 * iqr\n",
    "lim_sup = q3 + 1.5 * iqr\n"
   ]
  },
  {
   "cell_type": "code",
   "execution_count": 43,
   "metadata": {},
   "outputs": [
    {
     "name": "stdout",
     "output_type": "stream",
     "text": [
      "Empty DataFrame\n",
      "Columns: [nombre, edad, ciudad, carrera, nota_final, aprueba, grupo_edad]\n",
      "Index: []\n"
     ]
    }
   ],
   "source": [
    "outliers = df[(df[\"nota_final\"] < lim_inf) | (df[\"nota_final\"] > lim_sup)]\n",
    "print(outliers)"
   ]
  },
  {
   "cell_type": "code",
   "execution_count": 44,
   "metadata": {},
   "outputs": [
    {
     "data": {
      "image/png": "[encoded data removed]",
      "text/plain": [
       "<Figure size 640x480 with 1 Axes>"
      ]
     },
     "metadata": {},
     "output_type": "display_data"
    }
   ],
   "source": [
    "import matplotlib.pyplot as plt\n",
    "\n",
    "# Histograma de notas\n",
    "df[\"nota_final\"].hist(bins=10)\n",
    "plt.title(\"Distribución de Notas Finales\")\n",
    "plt.xlabel(\"Nota\")\n",
    "plt.ylabel(\"Frecuencia\")\n",
    "plt.show()"
   ]
  },
  {
   "cell_type": "code",
   "execution_count": 45,
   "metadata": {},
   "outputs": [
    {
     "data": {
      "image/png": "[encoded data removed]",
      "text/plain": [
       "<Figure size 640x480 with 1 Axes>"
      ]
     },
     "metadata": {},
     "output_type": "display_data"
    }
   ],
   "source": [
    "# Barras por carrera\n",
    "df[\"carrera\"].value_counts().plot(kind=\"bar\")\n",
    "plt.title(\"Cantidad de Estudiantes por Carrera\")\n",
    "plt.show()"
   ]
  }
 ],
 "metadata": {
  "kernelspec": {
   "display_name": "Python 3",
   "language": "python",
   "name": "python3"
  },
  "language_info": {
   "codemirror_mode": {
    "name": "ipython",
    "version": 3
   },
   "file_extension": ".py",
   "mimetype": "text/x-python",
   "name": "python",
   "nbconvert_exporter": "python",
   "pygments_lexer": "ipython3",
   "version": "3.12.1"
  }
 },
 "nbformat": 4,
 "nbformat_minor": 2
}
